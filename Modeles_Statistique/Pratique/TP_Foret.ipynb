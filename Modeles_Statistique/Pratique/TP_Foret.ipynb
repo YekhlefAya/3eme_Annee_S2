{
 "cells": [
  {
   "cell_type": "code",
   "execution_count": 1,
   "id": "11078c4d-3477-4191-b8b2-a6bb3d98ef38",
   "metadata": {},
   "outputs": [],
   "source": [
    "import numpy as np\n",
    "import pandas as pd\n",
    "from sklearn.datasets import load_iris\n",
    "from sklearn.model_selection import train_test_split\n",
    "from sklearn.ensemble import RandomForestClassifier\n",
    "from sklearn.metrics import accuracy_score\n",
    "import matplotlib.pyplot as plt"
   ]
  },
  {
   "cell_type": "code",
   "execution_count": 2,
   "id": "6ac47a19-92aa-4536-a0fd-e34e5d2cd3e7",
   "metadata": {},
   "outputs": [],
   "source": [
    "# Chargement du jeu de données Iris\n",
    "iris_data = load_iris()\n",
    "X_data = iris_data.data  # Les caractéristiques (longueur/largeur des sépales et pétales)\n",
    "y_data = iris_data.target  # Les labels (espèce des fleurs)"
   ]
  },
  {
   "cell_type": "code",
   "execution_count": 3,
   "id": "c6be6424-6ff0-41e9-b02a-601cc50be054",
   "metadata": {},
   "outputs": [
    {
     "name": "stdout",
     "output_type": "stream",
     "text": [
      "Caractéristiques : ['sepal length (cm)', 'sepal width (cm)', 'petal length (cm)', 'petal width (cm)']\n",
      "Classes : ['setosa' 'versicolor' 'virginica']\n"
     ]
    }
   ],
   "source": [
    "# Affichage des caractéristiques et des classes\n",
    "print(\"Caractéristiques :\", iris_data.feature_names)\n",
    "print(\"Classes :\", iris_data.target_names)"
   ]
  },
  {
   "cell_type": "code",
   "execution_count": 4,
   "id": "554ae1c8-53df-4ffd-ada5-e27d05d7b392",
   "metadata": {},
   "outputs": [],
   "source": [
    "# Séparation des données en jeu d'entraînement et jeu de test\n",
    "X_train_data, X_test_data, y_train_data, y_test_data = train_test_split(\n",
    "    X_data, y_data, test_size=0.2, random_state=42\n",
    ")"
   ]
  },
  {
   "cell_type": "code",
   "execution_count": 5,
   "id": "2fb080cc-bfba-4f56-a7b5-8e9e188c9dc9",
   "metadata": {},
   "outputs": [],
   "source": [
    "# Création du modèle Random Forest\n",
    "random_forest_model = RandomForestClassifier(\n",
    "    n_estimators=100,  # Nombre d'arbres dans la forêt\n",
    "    criterion='gini',  # Critère d'impureté\n",
    "    max_depth=4,  # Profondeur maximale des arbres\n",
    "    random_state=42\n",
    ")\n"
   ]
  },
  {
   "cell_type": "code",
   "execution_count": 6,
   "id": "660af6c8-e556-4c3f-881a-e319a7f9e7ab",
   "metadata": {},
   "outputs": [
    {
     "name": "stdout",
     "output_type": "stream",
     "text": [
      "Précision sur le test : 1.0\n"
     ]
    }
   ],
   "source": [
    "# Entraînement du modèle\n",
    "random_forest_model.fit(X_train_data, y_train_data)\n",
    "\n",
    "# Évaluation du modèle sur les données de test\n",
    "y_pred_data = random_forest_model.predict(X_test_data)\n",
    "test_accuracy = accuracy_score(y_test_data, y_pred_data)\n",
    "print(\"Précision sur le test :\", test_accuracy)"
   ]
  },
  {
   "cell_type": "code",
   "execution_count": 7,
   "id": "0593c0db-2e4d-48c5-9214-97b9089cf74c",
   "metadata": {},
   "outputs": [
    {
     "name": "stdout",
     "output_type": "stream",
     "text": [
      "sepal length (cm) : 0.1051\n",
      "sepal width (cm) : 0.0212\n",
      "petal length (cm) : 0.4501\n",
      "petal width (cm) : 0.4236\n"
     ]
    }
   ],
   "source": [
    "# Affichage de l'importance des caractéristiques\n",
    "feature_importances = random_forest_model.feature_importances_\n",
    "for feature_name, importance_score in zip(iris_data.feature_names, feature_importances):\n",
    "    print(f\"{feature_name} : {importance_score:.4f}\")"
   ]
  },
  {
   "cell_type": "code",
   "execution_count": 8,
   "id": "c35313ac-54da-4cde-b94f-b87cac71f2a9",
   "metadata": {},
   "outputs": [
    {
     "name": "stdout",
     "output_type": "stream",
     "text": [
      "Classe prédite pour la nouvelle fleur : virginica\n"
     ]
    }
   ],
   "source": [
    "# Prédiction sur une nouvelle observation\n",
    "new_flower = [[5.9, 3.0, 5.1, 1.8]]  # Les caractéristiques d'une nouvelle fleur\n",
    "predicted_class = random_forest_model.predict(new_flower)\n",
    "print(\"Classe prédite pour la nouvelle fleur :\", iris_data.target_names[predicted_class[0]])"
   ]
  },
  {
   "cell_type": "code",
   "execution_count": null,
   "id": "00d7c300-622d-42ca-b60a-59a599202134",
   "metadata": {},
   "outputs": [],
   "source": []
  }
 ],
 "metadata": {
  "kernelspec": {
   "display_name": "Python 3 (ipykernel)",
   "language": "python",
   "name": "python3"
  },
  "language_info": {
   "codemirror_mode": {
    "name": "ipython",
    "version": 3
   },
   "file_extension": ".py",
   "mimetype": "text/x-python",
   "name": "python",
   "nbconvert_exporter": "python",
   "pygments_lexer": "ipython3",
   "version": "3.10.11"
  }
 },
 "nbformat": 4,
 "nbformat_minor": 5
}
